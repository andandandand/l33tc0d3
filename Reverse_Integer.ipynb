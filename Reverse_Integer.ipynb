{
  "nbformat": 4,
  "nbformat_minor": 0,
  "metadata": {
    "colab": {
      "name": "Reverse Integer.ipynb",
      "version": "0.3.2",
      "provenance": [],
      "include_colab_link": true
    },
    "kernelspec": {
      "name": "python3",
      "display_name": "Python 3"
    }
  },
  "cells": [
    {
      "cell_type": "markdown",
      "metadata": {
        "id": "view-in-github",
        "colab_type": "text"
      },
      "source": [
        "<a href=\"https://colab.research.google.com/github/andandandand/l33tc0d3/blob/master/Reverse_Integer.ipynb\" target=\"_parent\"><img src=\"https://colab.research.google.com/assets/colab-badge.svg\" alt=\"Open In Colab\"/></a>"
      ]
    },
    {
      "metadata": {
        "id": "m-JYVv9mPU1O",
        "colab_type": "code",
        "colab": {}
      },
      "cell_type": "code",
      "source": [
        "!pip install ipdb"
      ],
      "execution_count": 0,
      "outputs": []
    },
    {
      "metadata": {
        "id": "T7CZjTZ14Ckm",
        "colab_type": "text"
      },
      "cell_type": "markdown",
      "source": [
        "https://leetcode.com/problems/reverse-integer/\n",
        "\n",
        "\n",
        "valid range for solution:  $ -2^{31} < x < 2^{31} -1$ "
      ]
    },
    {
      "metadata": {
        "id": "YtizsWis2Phv",
        "colab_type": "text"
      },
      "cell_type": "markdown",
      "source": [
        "https://leetcode.com/problems/reverse-integer"
      ]
    },
    {
      "metadata": {
        "id": "Wt30Xe89PfAg",
        "colab_type": "code",
        "colab": {
          "base_uri": "https://localhost:8080/",
          "height": 34
        },
        "outputId": "7f868e23-b854-4a4c-f005-f4e2a96b0fcc"
      },
      "cell_type": "code",
      "source": [
        "class Solution:\n",
        "\n",
        "    def reverse(self, x):\n",
        "        if x == 0:\n",
        "            return x\n",
        "\n",
        "        x = list(str(x))\n",
        "        sign = 1\n",
        "        if x[0]=='-':\n",
        "            x.pop(0)\n",
        "            sign = -1\n",
        "\n",
        "        if x[0]=='0':\n",
        "            x.pop(0)\n",
        "\n",
        "        result = sign * int(''.join(x[::-1]))\n",
        "\n",
        "        underflow = (-2 ** 31) > result\n",
        "        if underflow:\n",
        "            return 0\n",
        "\n",
        "        overflow = result > (2 ** 31 -1)\n",
        "        if overflow:\n",
        "            return 0\n",
        "\n",
        "\n",
        "        return result\n",
        "     \n",
        "\n",
        "sol = Solution()\n",
        "sol.reverse(-312)\n"
      ],
      "execution_count": 23,
      "outputs": [
        {
          "output_type": "execute_result",
          "data": {
            "text/plain": [
              "-213"
            ]
          },
          "metadata": {
            "tags": []
          },
          "execution_count": 23
        }
      ]
    }
  ]
}